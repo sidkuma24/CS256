{
 "cells": [
  {
   "cell_type": "code",
   "execution_count": 4,
   "metadata": {},
   "outputs": [
    {
     "name": "stdout",
     "output_type": "stream",
     "text": [
      "Optimization terminated successfully.\n",
      "         Current function value: -9.255065\n",
      "         Iterations: 64\n",
      "         Function evaluations: 120\n",
      "Min: [-2.82288159 -2.8229103 ]\n"
     ]
    }
   ],
   "source": [
    "import numpy as np\n",
    "from scipy.optimize import fmin\n",
    "\n",
    "x = np.array([1,-3])\n",
    "def f1(x):\n",
    "    return(1.5*(x[0]**2) + x[1]**2 - 2*x[0]*x[1] + 2*x[0]**3  + 0.5*(x[0]**4))\n",
    "\n",
    "min = fmin(f1,x)\n",
    "print(\"Min:\",min)"
   ]
  },
  {
   "cell_type": "code",
   "execution_count": null,
   "metadata": {},
   "outputs": [],
   "source": []
  }
 ],
 "metadata": {
  "kernelspec": {
   "display_name": "Python 3",
   "language": "python",
   "name": "python3"
  },
  "language_info": {
   "codemirror_mode": {
    "name": "ipython",
    "version": 3
   },
   "file_extension": ".py",
   "mimetype": "text/x-python",
   "name": "python",
   "nbconvert_exporter": "python",
   "pygments_lexer": "ipython3",
   "version": "3.5.2"
  }
 },
 "nbformat": 4,
 "nbformat_minor": 2
}

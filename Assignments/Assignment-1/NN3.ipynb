{
 "cells": [
  {
   "cell_type": "code",
   "execution_count": null,
   "metadata": {},
   "outputs": [],
   "source": [
    "from random import random\n",
    "import numpy as np\n",
    "import math\n",
    "from math import exp\n",
    "\n",
    "def actF(x):\n",
    "    act = math.tanh(x)\n",
    "    return [act,1-act*act]\n",
    "\n",
    "def cross_entropy_loss(output, target):\n",
    "    return (output - target)\n",
    "\n",
    "def preprocess(filename):\n",
    "    file = open(filename,'r')\n",
    "    dataset = [line.split() for line in file]\n",
    "    train_data = [np.array([float(row[0]),float(row[1])]) for row in dataset]\n",
    "    train_labels = np.zeros((len(train_data),2))\n",
    "    labels = [int(row[2]) for row in dataset]\n",
    "    for i in range(len(labels)):\n",
    "            train_labels[i][labels[i]] = 1    \n",
    "    return train_data, train_labels\n",
    "\n",
    "def softmax_norm(output_vec):\n",
    "    l = [exp(x) for x in output_vec]\n",
    "    npl = np.array(l)\n",
    "    mysum = npl.sum()\n",
    "    Dr = np.array([mysum for i in range(0,len(output_vec))])\n",
    "    return (npl/Dr)\n",
    "\n",
    "class NeuralNetwork:\n",
    "    def __init__(self, n_input, n_hidden, n_output):\n",
    "        init_weights = [[random() for x in range(n_input+1)] for i in range(n_hidden)]\n",
    "        init_weights = np.array(init_weights)\n",
    "        self.hidden_layer = {'W':init_weights}\n",
    "        init_weights = [[random() for x in range(n_hidden+1)] for i in range(n_output)]\n",
    "        init_weights = np.array(init_weights)\n",
    "        self.output_layer = {'W' : init_weights}\n",
    "        "
   ]
  }
 ],
 "metadata": {
  "kernelspec": {
   "display_name": "Python 3",
   "language": "python",
   "name": "python3"
  },
  "language_info": {
   "codemirror_mode": {
    "name": "ipython",
    "version": 3
   },
   "file_extension": ".py",
   "mimetype": "text/x-python",
   "name": "python",
   "nbconvert_exporter": "python",
   "pygments_lexer": "ipython3",
   "version": "3.5.2"
  }
 },
 "nbformat": 4,
 "nbformat_minor": 2
}

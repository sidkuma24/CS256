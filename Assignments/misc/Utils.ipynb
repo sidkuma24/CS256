{
 "cells": [
  {
   "cell_type": "code",
   "execution_count": 35,
   "metadata": {},
   "outputs": [
    {
     "name": "stdout",
     "output_type": "stream",
     "text": [
      "44\n"
     ]
    }
   ],
   "source": [
    "# Maxpool without numpy\n",
    "\n",
    "# parsing user input\n",
    "# import sys\n",
    "\n",
    "# for line in sys.stdin:\n",
    "#     print (line)\n",
    "\n",
    "import math\n",
    "\n",
    "matrix= [[1,2,3,4],\n",
    "         [5,6,7,8],\n",
    "         [9,10,11,12],\n",
    "         [13,14,15,16]]\n",
    "\n",
    "stride = (2,2);\n",
    "window_size = (2,2)\n",
    "# rows = int((len(matrix) - window_size[0])/stride[0] + 1)\n",
    "# cols = int((len(matrix[0]) - window_size[1])/stride[1] + 1)\n",
    "windowsList = []\n",
    "for r in range(0,len(matrix),stride[0]):\n",
    "    for c in range(0,len(matrix[0]),stride[1]):\n",
    "        subMatrix = []\n",
    "        for i in range(window_size[0]):\n",
    "            for j in range(window_size[1]):\n",
    "                subMatrix.append(matrix[r+i][c+j])\n",
    "        windowsList.append(subMatrix)\n",
    "        \n",
    "maxPool = [max(x) for x in windowsList] \n",
    "# print(maxList)\n",
    "sumMaxPool = sum(maxPool)\n",
    "print (sumMaxPool)"
   ]
  },
  {
   "cell_type": "code",
   "execution_count": 58,
   "metadata": {},
   "outputs": [
    {
     "name": "stdout",
     "output_type": "stream",
     "text": [
      "['k', 'e', 'I', 'o', 'P', 'z', 'K', 'p', 't', 'w', 's', 'v', 'c', 'm', 'x', 'u', 'g', 'E', 'R', 'T', 'l', 'i', 'a', 'y', 'Y', 'b', 'n', 'r', 'f', 'd', 'q', 'h', 'S']\n",
      "You can learn about this by interactively experimenting with the re module. If you have Tkinter available, you may also want to look at Tools/scripts/redemo.py, a demonstration program included with the Python distribution. It allows you to enter REs and strings, and displays whether the RE matches or fails. redemo.py can be quite useful when trying to debug a complicated RE. Phil Schwartz’s Kodos is also an interactive tool for developing and testing RE patterns.\n"
     ]
    }
   ],
   "source": [
    "# python regex matching\n",
    "import re\n",
    "\n",
    "input = \"You can learn about this by interactively experimenting with the re module. If you have Tkinter available, you may also want to look at Tools/scripts/redemo.py, a demonstration program included with the Python distribution. It allows you to enter REs and strings, and displays whether the RE matches or fails. redemo.py can be quite useful when trying to debug a complicated RE. Phil Schwartz’s Kodos is also an interactive tool for developing and testing RE patterns.\"\n",
    "\n",
    "AlphaNumer = re.compile('\\w')\n",
    "nonAlphaNumer = re.compile('\\W')\n",
    "\n",
    "# matching spcific strings\n",
    "\n",
    "myPattern = re.comile(\"\")\n",
    "\n",
    "\n",
    "removeChars = AlphaNumer.findall(input)\n",
    "removeChars = list(set(removeChars))\n",
    "print(removeChars)\n",
    "\n",
    "\n",
    "\n",
    "for i in range(0,len(removeChars)):\n",
    "    input.replace(removeChars[i],\"\")\n",
    "    \n",
    "print(input)\n",
    "\n",
    "\n",
    "\n",
    "\n",
    "\n"
   ]
  },
  {
   "cell_type": "code",
   "execution_count": null,
   "metadata": {},
   "outputs": [],
   "source": []
  },
  {
   "cell_type": "code",
   "execution_count": null,
   "metadata": {},
   "outputs": [],
   "source": []
  },
  {
   "cell_type": "code",
   "execution_count": null,
   "metadata": {},
   "outputs": [],
   "source": []
  }
 ],
 "metadata": {
  "kernelspec": {
   "display_name": "Python 3",
   "language": "python",
   "name": "python3"
  },
  "language_info": {
   "codemirror_mode": {
    "name": "ipython",
    "version": 3
   },
   "file_extension": ".py",
   "mimetype": "text/x-python",
   "name": "python",
   "nbconvert_exporter": "python",
   "pygments_lexer": "ipython3",
   "version": "3.5.2"
  }
 },
 "nbformat": 4,
 "nbformat_minor": 2
}
